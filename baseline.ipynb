{
 "cells": [
  {
   "attachments": {},
   "cell_type": "markdown",
   "metadata": {},
   "source": [
    "# Import libraries"
   ]
  },
  {
   "cell_type": "code",
   "execution_count": 16,
   "metadata": {},
   "outputs": [],
   "source": [
    "import pandas as pd\n",
    "import numpy as np\n",
    "import os\n",
    "\n",
    "from helper_functions import smape_comp\n",
    "from configs import (\n",
    "    TRAIN_PATH,\n",
    "    CENSUS_STARTER_PATH,\n",
    "    OUTPUT_PATH,\n",
    "    TEST_PATH,\n",
    "    REVEALED_TEST_PATH,\n",
    "    SAMPLE_SUBMISSION_PATH,\n",
    "    CENSUS_2020_PATH,\n",
    "    CENSUS_2021_PATH,\n",
    ")\n"
   ]
  },
  {
   "attachments": {},
   "cell_type": "markdown",
   "metadata": {},
   "source": [
    "# Load data"
   ]
  },
  {
   "cell_type": "code",
   "execution_count": 2,
   "metadata": {},
   "outputs": [
    {
     "name": "stderr",
     "output_type": "stream",
     "text": [
      "c:\\Users\\apuengpreeda\\miniconda3\\envs\\myenv\\lib\\site-packages\\IPython\\core\\interactiveshell.py:3146: DtypeWarning: Columns (2,5,6,7,10,11,12,13,14,15,16,17,18,19,22,23,26,29,30,33,34,35,36,37,38,39,40,41,42,43,46,49,50,51,52,53,54,55,56,57,58,59,60,61,62,63,64,65,66,67,68,69,70,71,72,73,74,75,76,77,78,79,82,83,86,87,90,91,94,97,98,99,100,101,102,103,106,107,108,109,110,111,112,113,114,115,116,117,118,121,122,125,126,127,128,129,130,131,134,135,138,139,142,143,158,159,162,163,164,165,166,167,168,169,170,171,174,177,178,181,182,185,186,187,188,189,190,191,192,193,194,197,198,201,202,203,204,205,206,207,208,209,210,211,212,213,214,215,216,217,218,219,220,221,222,223,224,225,226,227,228,229,230,231,234,235,238,239,242,245,246,249,250,251,252,253,254,257,258,259,260,261,262,263,264,265,266,267,268,269,270,273,274,275,298,301,302,303,306,307,310,311,314,315,316,317,318,319,320,321,322,325,326,329,330,331,334,335,338,339,340,341,342,343,344,345,346,349,350,351,354,355,356,357,358,359,360,361,362,363,364,365,366,367,368,369,370,371,372,373,374,375,376,377,378,379,380,381,382,385,386,387,390,393,394,395,398,401,402,403,404,405,406,409,410,411,412,413,414,415,416,417,418,419,420,421,422,423,426,427,430,431,432,433,462,465,466,467,468,469,470,471,472,473,474,477,478,479,482,483,486,487,490,491,492,493,494,495,496,497,498,501,502,503,506,507,508,509,510,511,512,513,514,515,516,517,518,519,520,521,522,523,524,525,526,527,528,529,530,531,532,533,534,537,538,539,542,545,546,549,550,551,554,555,556,557,558,561,562,563,564,565,566,567,568,569,570,571,572,573,574,575,578,581,610,613,614,617,618,619,620,621,622,623,624,625,626,627,630,631,634,635,638,639,642,643,644,645,646,647,648,649,650,651,654,655,658,659,660,661,662,663,664,665,666,667,668,669,670,671,672,673,674,675,676,677,678,679,680,681,682,683,684,685,686,689,690,693,694,697,698,699,702,703,706,707,708,709,710,711,714,715,716,717,718,719,720,721,722,723,724,725,726,727,730,733,734,735,736,737,766,767,770,771,772,773,774,775,776,777,778,779,782,783,786,789,790,793,794,795,796,797,798,799,800,801,802,803,806,807,810,811,812,813,814,815,816,817,818,819,820,821,822,823,824,825,826,827,828,829,830,831,832,833,834,835,836,837,838,839,842,845,846,847,850,851,854,857,858,859,860,861,862,863,866,867,868,869,870,871,872,873,874,875,876,877,878,881,882,885) have mixed types.Specify dtype option on import or set low_memory=False.\n",
      "  interactivity=interactivity, compiler=compiler, result=result)\n",
      "c:\\Users\\apuengpreeda\\miniconda3\\envs\\myenv\\lib\\site-packages\\IPython\\core\\interactiveshell.py:3146: DtypeWarning: Columns (2,5,6,9,10,11,12,13,14,15,16,17,18,21,22,23,26,29,30,33,34,35,36,37,38,39,40,41,42,45,46,49,50,51,52,53,54,55,56,57,58,59,60,61,62,63,64,65,66,67,68,69,70,71,72,73,74,75,76,77,78,79,82,83,86,87,90,91,94,95,98,99,100,101,102,103,106,107,108,109,110,111,112,113,114,115,116,117,118,119,122,123,126,127,128,129,130,131,134,135,138,139,142,143,158,161,162,163,164,165,166,167,168,169,170,173,174,177,178,181,182,185,186,187,188,189,190,191,192,193,194,197,198,201,202,203,204,205,206,207,208,209,210,211,212,213,214,215,216,217,218,219,220,221,222,223,224,225,226,227,228,229,230,231,234,235,238,239,242,243,246,247,250,251,252,253,254,257,258,259,260,261,262,263,264,265,266,267,268,269,270,273,274,275,298,301,302,303,306,309,310,311,314,315,316,317,318,319,320,321,322,325,326,329,330,333,334,337,338,339,340,341,342,343,344,345,346,349,350,353,354,355,356,357,358,359,360,361,362,363,364,365,366,367,368,369,370,371,372,373,374,375,376,377,378,379,380,381,382,383,386,387,390,391,394,395,398,401,402,403,404,405,406,407,410,411,412,413,414,415,416,417,418,419,420,421,422,423,426,427,430,431,432,433,462,465,466,467,468,469,470,471,472,473,474,477,478,481,482,485,486,489,490,491,492,493,494,495,496,497,498,499,502,505,506,507,508,509,510,511,512,513,514,515,516,517,518,519,520,521,522,523,524,525,526,527,528,529,530,531,532,533,534,535,538,539,542,543,546,549,550,551,554,555,556,557,558,559,562,563,564,565,566,567,568,569,570,571,572,573,574,575,578,579,610,613,614,617,618,619,620,621,622,623,624,625,626,629,630,633,634,637,638,641,642,643,644,645,646,647,648,649,650,653,654,657,658,659,660,661,662,663,664,665,666,667,668,669,670,671,672,673,674,675,676,677,678,679,680,681,682,683,684,685,686,689,690,691,694,697,698,699,702,703,706,707,708,709,710,711,714,715,716,717,718,719,720,721,722,723,724,725,726,727,730,733,734,735,736,737,766,769,770,771,772,773,774,775,776,777,778,781,782,785,786,787,790,793,794,795,796,797,798,799,800,801,802,805,806,809,810,811,812,813,814,815,816,817,818,819,820,821,822,823,824,825,826,827,828,829,830,831,832,833,834,835,836,837,838,839,842,843,846,847,850,851,854,855,858,859,860,861,862,863,866,867,868,869,870,871,872,873,874,875,876,877,878,879,882,883) have mixed types.Specify dtype option on import or set low_memory=False.\n",
      "  interactivity=interactivity, compiler=compiler, result=result)\n"
     ]
    }
   ],
   "source": [
    "census_starter = pd.read_csv(CENSUS_STARTER_PATH)\n",
    "revealed_test = pd.read_csv(REVEALED_TEST_PATH)\n",
    "sample_submission = pd.read_csv(SAMPLE_SUBMISSION_PATH)\n",
    "test = pd.read_csv(TEST_PATH)\n",
    "train = pd.read_csv(TRAIN_PATH, parse_dates=[\"first_day_of_month\"])\n",
    "\n",
    "census_2020 = pd.read_csv(CENSUS_2020_PATH)\n",
    "census_2020 = census_2020.iloc[1:]\n",
    "\n",
    "census_2021 = pd.read_csv(CENSUS_2021_PATH)\n",
    "census_2021 = census_2021.iloc[1:]\n"
   ]
  },
  {
   "attachments": {},
   "cell_type": "markdown",
   "metadata": {},
   "source": [
    "# Baseline model on train data"
   ]
  },
  {
   "cell_type": "code",
   "execution_count": 4,
   "metadata": {},
   "outputs": [],
   "source": [
    "df_train = train[train['first_day_of_month']<='2022-07-01']\n",
    "df_valid = train[train['first_day_of_month']>='2022-08-01']"
   ]
  },
  {
   "cell_type": "code",
   "execution_count": 5,
   "metadata": {},
   "outputs": [],
   "source": [
    "last_known_y_train = df_train.drop_duplicates(['cfips'], keep='last')\n",
    "last_known_y_train = last_known_y_train[['cfips', 'microbusiness_density']].reset_index(drop=True)\n",
    "last_known_y_train = last_known_y_train.rename(columns={'microbusiness_density': 'y_pred'})"
   ]
  },
  {
   "cell_type": "code",
   "execution_count": 6,
   "metadata": {},
   "outputs": [],
   "source": [
    "df_baseline = pd.merge(df_valid, last_known_y_train, on=['cfips'], how='left')"
   ]
  },
  {
   "cell_type": "code",
   "execution_count": 7,
   "metadata": {},
   "outputs": [
    {
     "data": {
      "text/plain": [
       "1.8729511099278124"
      ]
     },
     "execution_count": 7,
     "metadata": {},
     "output_type": "execute_result"
    }
   ],
   "source": [
    "smape_comp(df_baseline['microbusiness_density'], df_baseline['y_pred'])"
   ]
  },
  {
   "cell_type": "code",
   "execution_count": 8,
   "metadata": {},
   "outputs": [
    {
     "name": "stdout",
     "output_type": "stream",
     "text": [
      "27151\n"
     ]
    },
    {
     "data": {
      "text/plain": [
       "<AxesSubplot:xlabel='first_day_of_month'>"
      ]
     },
     "execution_count": 8,
     "metadata": {},
     "output_type": "execute_result"
    },
    {
     "data": {
      "image/png": "[encoded data removed]",
      "text/plain": [
       "<Figure size 432x288 with 1 Axes>"
      ]
     },
     "metadata": {},
     "output_type": "display_data"
    }
   ],
   "source": [
    "rand_cfips = np.random.choice(train['cfips'])\n",
    "print(rand_cfips)\n",
    "train[train['cfips']==rand_cfips].plot(x='first_day_of_month', y='microbusiness_density')"
   ]
  },
  {
   "attachments": {},
   "cell_type": "markdown",
   "metadata": {},
   "source": [
    "# Prepare submission from last known data"
   ]
  },
  {
   "cell_type": "code",
   "execution_count": 9,
   "metadata": {},
   "outputs": [],
   "source": [
    "census_2020['cfips'] = census_2020['GEO_ID'].apply(lambda x: x.split('US')[1]).astype(int)\n",
    "census_2020['adult_pop'] = census_2020['S0101_C01_026E'].astype(int)\n",
    "\n",
    "adult_2020 = census_2020[['cfips', 'adult_pop']]\n",
    "\n",
    "\n",
    "census_2021['cfips'] = census_2021['GEO_ID'].apply(lambda x: x.split('US')[1]).astype(int)\n",
    "census_2021['adult_pop'] = census_2021['S0101_C01_026E'].astype(int)\n",
    "\n",
    "adult_2021 = census_2021[['cfips', 'adult_pop']]\n",
    "\n",
    "adult_trends = pd.merge(adult_2020, adult_2021, on=['cfips'], how='left', suffixes=['_2020', '_2021'])"
   ]
  },
  {
   "cell_type": "code",
   "execution_count": 10,
   "metadata": {},
   "outputs": [],
   "source": [
    "last_known_y = revealed_test.drop_duplicates(['cfips'], keep='last')\n",
    "last_known_y = last_known_y[['cfips', 'microbusiness_density']].reset_index(drop=True)\n",
    "last_known_y = last_known_y.rename(columns={'microbusiness_density': 'y_pred'})"
   ]
  },
  {
   "cell_type": "code",
   "execution_count": 11,
   "metadata": {},
   "outputs": [],
   "source": [
    "sample_submission['cfips'] = sample_submission['row_id'].apply(lambda x: x.split(\"_\")[0]).astype(int)"
   ]
  },
  {
   "cell_type": "code",
   "execution_count": 12,
   "metadata": {},
   "outputs": [],
   "source": [
    "submission = pd.merge(sample_submission, last_known_y, on=['cfips'], how='left')\n",
    "\n",
    "submission = pd.merge(submission, adult_trends, on=['cfips'], how='left')\n",
    "submission['adjusted_y_pred'] = submission['y_pred'] / (submission['adult_pop_2021'] / submission['adult_pop_2020'])"
   ]
  },
  {
   "cell_type": "code",
   "execution_count": 13,
   "metadata": {},
   "outputs": [],
   "source": [
    "submission['microbusiness_density'] = submission['adjusted_y_pred']\n",
    "submission = submission[['row_id', 'microbusiness_density']]"
   ]
  },
  {
   "cell_type": "code",
   "execution_count": 22,
   "metadata": {},
   "outputs": [],
   "source": [
    "submission.to_csv(os.path.join(OUTPUT_PATH, \"submission.csv\"), index=False)"
   ]
  },
  {
   "cell_type": "code",
   "execution_count": null,
   "metadata": {},
   "outputs": [],
   "source": []
  }
 ],
 "metadata": {
  "kernelspec": {
   "display_name": "myenv",
   "language": "python",
   "name": "python3"
  },
  "language_info": {
   "codemirror_mode": {
    "name": "ipython",
    "version": 3
   },
   "file_extension": ".py",
   "mimetype": "text/x-python",
   "name": "python",
   "nbconvert_exporter": "python",
   "pygments_lexer": "ipython3",
   "version": "3.7.9"
  },
  "orig_nbformat": 4
 },
 "nbformat": 4,
 "nbformat_minor": 2
}
